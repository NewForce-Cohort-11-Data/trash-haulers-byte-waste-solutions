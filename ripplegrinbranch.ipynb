{
 "cells": [
  {
   "cell_type": "code",
   "execution_count": 9,
   "id": "90a2c270-344c-49aa-981e-a20ea4fe40bf",
   "metadata": {},
   "outputs": [],
   "source": [
    "import pandas as pd\n",
    "import geopandas as gpd\n",
    "import re\n",
    "from shapely.geometry import Point\n",
    "import matplotlib.pyplot as plt\n",
    "## import seaborn as sns\n",
    "import folium"
   ]
  },
  {
   "cell_type": "code",
   "execution_count": 10,
   "id": "decc1afc-9f13-4a69-85e5-58313e72c488",
   "metadata": {},
   "outputs": [],
   "source": [
    "pickup_report = pd.read_csv('data/trash_hauler_report.csv')"
   ]
  },
  {
   "cell_type": "code",
   "execution_count": 11,
   "id": "dd16ce37-9db2-475b-bec7-6ef8732bc1ef",
   "metadata": {},
   "outputs": [],
   "source": [
    "                               # Fill missing fields \n",
    "pickup_report['Trash Hauler'] = pickup_report['Trash Hauler'].fillna('N/A')\n",
    "pickup_report['Trash Route'] = pickup_report['Trash Route'].fillna('N/A')\n",
    "pickup_report['Trash Route'] = pickup_report['Trash Route'].fillna('0')"
   ]
  },
  {
   "cell_type": "code",
   "execution_count": 12,
   "id": "b01cf680-4dc5-4d7b-a6eb-4c05666ca9cb",
   "metadata": {
    "scrolled": true
   },
   "outputs": [
    {
     "name": "stdout",
     "output_type": "stream",
     "text": [
      "count     20226.0\n",
      "unique       29.0\n",
      "top       37013.0\n",
      "freq       2278.0\n",
      "Name: Zip Code, dtype: float64\n"
     ]
    },
    {
     "data": {
      "text/plain": [
       "0        37207.0\n",
       "1        37218.0\n",
       "2        37209.0\n",
       "3        37207.0\n",
       "4        37209.0\n",
       "          ...   \n",
       "20221    37013.0\n",
       "20222    37206.0\n",
       "20223    37214.0\n",
       "20224    37013.0\n",
       "20225    37217.0\n",
       "Name: Zip Code, Length: 20226, dtype: category\n",
       "Categories (29, float64): [0.0, 37013.0, 37027.0, 37076.0, ..., 37219.0, 37220.0, 37221.0, 37228.0]"
      ]
     },
     "metadata": {},
     "output_type": "display_data"
    }
   ],
   "source": [
    "pickup_report['Zip Code'] = pickup_report['Zip Code'].fillna(0).astype('category')\n",
    "assert pickup_report['Zip Code'].dtype == 'category'\n",
    "\n",
    "print(pickup_report['Zip Code'].describe())\n",
    "\n",
    "display(pickup_report['Zip Code'])"
   ]
  },
  {
   "cell_type": "code",
   "execution_count": 14,
   "id": "6f9c4f29-8025-4c4c-951b-a57aca2a2b80",
   "metadata": {},
   "outputs": [],
   "source": [
    "# Clean up column names and Normalize data\n",
    "pickup_report = pickup_report.rename(columns={'Request ': 'Request'})\n",
    "pickup_report['Trash Hauler'] = pickup_report['Trash Hauler'].str.upper()"
   ]
  },
  {
   "cell_type": "code",
   "execution_count": 17,
   "id": "3346dda9-d080-4cfd-9705-190a5e29a85a",
   "metadata": {
    "scrolled": true
   },
   "outputs": [
    {
     "name": "stdout",
     "output_type": "stream",
     "text": [
      "       Request Number  Council District  State Plan X  State Plan Y\n",
      "count    15028.000000      14991.000000  1.500700e+04  1.500700e+04\n",
      "mean    151361.267234         18.318524  1.766425e+06  6.592279e+05\n",
      "std      71901.537542         10.107257  8.137032e+05  4.550526e+04\n",
      "min      25274.000000          1.000000  1.663490e+06 -2.719106e+05\n",
      "25%      87142.250000          8.000000  1.728654e+06  6.395148e+05\n",
      "50%     148228.500000         20.000000  1.747701e+06  6.570097e+05\n",
      "75%     220744.500000         27.000000  1.760562e+06  6.757087e+05\n",
      "max     267137.000000         35.000000  3.496892e+07  2.204382e+06\n"
     ]
    }
   ],
   "source": [
    "# Create a dataframe made up of ONLY 'missed' appearing in the 'Request\" column\n",
    "missedpu = pickup_report[pickup_report['Request'].str.contains(r'\\bmissed\\b', case=False, na=False, regex=True)]\n",
    "print (missedpu.describe())"
   ]
  },
  {
   "cell_type": "code",
   "execution_count": 16,
   "id": "a465f77c-7fe1-4294-87d9-2f1eacdfeb3f",
   "metadata": {},
   "outputs": [],
   "source": [
    "## owed amounts"
   ]
  }
 ],
 "metadata": {
  "kernelspec": {
   "display_name": "Python 3 (ipykernel)",
   "language": "python",
   "name": "python3"
  },
  "language_info": {
   "codemirror_mode": {
    "name": "ipython",
    "version": 3
   },
   "file_extension": ".py",
   "mimetype": "text/x-python",
   "name": "python",
   "nbconvert_exporter": "python",
   "pygments_lexer": "ipython3",
   "version": "3.13.5"
  }
 },
 "nbformat": 4,
 "nbformat_minor": 5
}
