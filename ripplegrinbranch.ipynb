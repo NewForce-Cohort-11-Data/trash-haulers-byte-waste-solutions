{
 "cells": [
  {
   "cell_type": "code",
   "execution_count": 16,
   "id": "90a2c270-344c-49aa-981e-a20ea4fe40bf",
   "metadata": {},
   "outputs": [],
   "source": [
    "import pandas as pd\n",
    "import geopandas as gpd\n",
    "import re"
   ]
  },
  {
   "cell_type": "code",
   "execution_count": 17,
   "id": "decc1afc-9f13-4a69-85e5-58313e72c488",
   "metadata": {},
   "outputs": [],
   "source": [
    "pickups = pd.read_csv('data/trash_hauler_report.csv')"
   ]
  },
  {
   "cell_type": "code",
   "execution_count": 18,
   "id": "dd16ce37-9db2-475b-bec7-6ef8732bc1ef",
   "metadata": {},
   "outputs": [
    {
     "data": {
      "text/html": [
       "<div>\n",
       "<style scoped>\n",
       "    .dataframe tbody tr th:only-of-type {\n",
       "        vertical-align: middle;\n",
       "    }\n",
       "\n",
       "    .dataframe tbody tr th {\n",
       "        vertical-align: top;\n",
       "    }\n",
       "\n",
       "    .dataframe thead th {\n",
       "        text-align: right;\n",
       "    }\n",
       "</style>\n",
       "<table border=\"1\" class=\"dataframe\">\n",
       "  <thead>\n",
       "    <tr style=\"text-align: right;\">\n",
       "      <th></th>\n",
       "      <th>Request Number</th>\n",
       "      <th>Date Opened</th>\n",
       "      <th>Request</th>\n",
       "      <th>Description</th>\n",
       "      <th>Incident Address</th>\n",
       "      <th>Zip Code</th>\n",
       "      <th>Trash Hauler</th>\n",
       "      <th>Trash Route</th>\n",
       "      <th>Council District</th>\n",
       "      <th>State Plan X</th>\n",
       "      <th>State Plan Y</th>\n",
       "    </tr>\n",
       "  </thead>\n",
       "  <tbody>\n",
       "    <tr>\n",
       "      <th>0</th>\n",
       "      <td>25270</td>\n",
       "      <td>11/01/17</td>\n",
       "      <td>Trash - Backdoor</td>\n",
       "      <td>house with the wheel chair ramp, they share dr...</td>\n",
       "      <td>3817 Crouch Dr</td>\n",
       "      <td>37207.0</td>\n",
       "      <td>RED RIVER</td>\n",
       "      <td>3205</td>\n",
       "      <td>2.0</td>\n",
       "      <td>1.727970e+06</td>\n",
       "      <td>686779.478089</td>\n",
       "    </tr>\n",
       "    <tr>\n",
       "      <th>1</th>\n",
       "      <td>25274</td>\n",
       "      <td>11/01/17</td>\n",
       "      <td>Trash - Curbside/Alley Missed Pickup</td>\n",
       "      <td>Curb/Trash miss Tuesday.</td>\n",
       "      <td>4028 Clarksville Pike</td>\n",
       "      <td>37218.0</td>\n",
       "      <td>RED RIVER</td>\n",
       "      <td>4202</td>\n",
       "      <td>1.0</td>\n",
       "      <td>1.721259e+06</td>\n",
       "      <td>685444.799565</td>\n",
       "    </tr>\n",
       "    <tr>\n",
       "      <th>2</th>\n",
       "      <td>25276</td>\n",
       "      <td>11/01/17</td>\n",
       "      <td>Trash - Curbside/Alley Missed Pickup</td>\n",
       "      <td>Curb/trash miss Tuesday.</td>\n",
       "      <td>6528 Thunderbird Dr</td>\n",
       "      <td>37209.0</td>\n",
       "      <td>RED RIVER</td>\n",
       "      <td>4205</td>\n",
       "      <td>20.0</td>\n",
       "      <td>1.707027e+06</td>\n",
       "      <td>659887.471571</td>\n",
       "    </tr>\n",
       "    <tr>\n",
       "      <th>3</th>\n",
       "      <td>25307</td>\n",
       "      <td>11/01/17</td>\n",
       "      <td>Trash - Curbside/Alley Missed Pickup</td>\n",
       "      <td>missed</td>\n",
       "      <td>2603 old matthews rd</td>\n",
       "      <td>37207.0</td>\n",
       "      <td>WASTE IND</td>\n",
       "      <td>2206</td>\n",
       "      <td>2.0</td>\n",
       "      <td>1.735692e+06</td>\n",
       "      <td>685027.245923</td>\n",
       "    </tr>\n",
       "    <tr>\n",
       "      <th>4</th>\n",
       "      <td>25312</td>\n",
       "      <td>11/01/17</td>\n",
       "      <td>Trash - Curbside/Alley Missed Pickup</td>\n",
       "      <td>Missed the even side of the road.</td>\n",
       "      <td>604 croley dr</td>\n",
       "      <td>37209.0</td>\n",
       "      <td>RED RIVER</td>\n",
       "      <td>4203</td>\n",
       "      <td>20.0</td>\n",
       "      <td>1.710186e+06</td>\n",
       "      <td>664205.101066</td>\n",
       "    </tr>\n",
       "  </tbody>\n",
       "</table>\n",
       "</div>"
      ],
      "text/plain": [
       "   Request Number Date Opened                              Request   \\\n",
       "0           25270    11/01/17                      Trash - Backdoor   \n",
       "1           25274    11/01/17  Trash - Curbside/Alley Missed Pickup   \n",
       "2           25276    11/01/17  Trash - Curbside/Alley Missed Pickup   \n",
       "3           25307    11/01/17  Trash - Curbside/Alley Missed Pickup   \n",
       "4           25312    11/01/17  Trash - Curbside/Alley Missed Pickup   \n",
       "\n",
       "                                         Description       Incident Address  \\\n",
       "0  house with the wheel chair ramp, they share dr...         3817 Crouch Dr   \n",
       "1                           Curb/Trash miss Tuesday.  4028 Clarksville Pike   \n",
       "2                           Curb/trash miss Tuesday.    6528 Thunderbird Dr   \n",
       "3                                             missed   2603 old matthews rd   \n",
       "4                  Missed the even side of the road.          604 croley dr   \n",
       "\n",
       "   Zip Code Trash Hauler Trash Route  Council District  State Plan X  \\\n",
       "0   37207.0    RED RIVER        3205               2.0  1.727970e+06   \n",
       "1   37218.0    RED RIVER        4202               1.0  1.721259e+06   \n",
       "2   37209.0    RED RIVER        4205              20.0  1.707027e+06   \n",
       "3   37207.0    WASTE IND        2206               2.0  1.735692e+06   \n",
       "4   37209.0    RED RIVER        4203              20.0  1.710186e+06   \n",
       "\n",
       "    State Plan Y  \n",
       "0  686779.478089  \n",
       "1  685444.799565  \n",
       "2  659887.471571  \n",
       "3  685027.245923  \n",
       "4  664205.101066  "
      ]
     },
     "execution_count": 18,
     "metadata": {},
     "output_type": "execute_result"
    }
   ],
   "source": [
    "pickups.head(5)"
   ]
  },
  {
   "cell_type": "code",
   "execution_count": 44,
   "id": "b01cf680-4dc5-4d7b-a6eb-4c05666ca9cb",
   "metadata": {
    "scrolled": true
   },
   "outputs": [
    {
     "name": "stdout",
     "output_type": "stream",
     "text": [
      "count    20226.000000\n",
      "mean     37042.752398\n",
      "std       2260.905940\n",
      "min          0.000000\n",
      "25%      37205.000000\n",
      "50%      37209.000000\n",
      "75%      37214.000000\n",
      "max      37228.000000\n",
      "Name: Zip Code, dtype: float64\n"
     ]
    },
    {
     "data": {
      "text/plain": [
       "0        37207\n",
       "1        37218\n",
       "2        37209\n",
       "3        37207\n",
       "4        37209\n",
       "         ...  \n",
       "20221    37013\n",
       "20222    37206\n",
       "20223    37214\n",
       "20224    37013\n",
       "20225    37217\n",
       "Name: Zip Code, Length: 20226, dtype: int64"
      ]
     },
     "metadata": {},
     "output_type": "display_data"
    }
   ],
   "source": [
    "pickups['Zip Code'] = pd.to_numeric(pickups['Zip Code'], errors='coerce')\n",
    "pickups['Zip Code'] = pickups['Zip Code'].fillna(0).astype(int)\n",
    "assert pickups['Zip Code'].dtype == int\n",
    "print(pickups['Zip Code'].describe())\n",
    "display(pickups['Zip Code'])"
   ]
  },
  {
   "cell_type": "code",
   "execution_count": 43,
   "id": "ade84756-a044-4ebd-96c9-3e20ed5ba460",
   "metadata": {},
   "outputs": [
    {
     "ename": "KeyError",
     "evalue": "'Request'",
     "output_type": "error",
     "traceback": [
      "\u001b[31m---------------------------------------------------------------------------\u001b[39m",
      "\u001b[31mKeyError\u001b[39m                                  Traceback (most recent call last)",
      "\u001b[36mFile \u001b[39m\u001b[32m~\\anaconda3\\envs\\geospatial\\Lib\\site-packages\\pandas\\core\\indexes\\base.py:3812\u001b[39m, in \u001b[36mIndex.get_loc\u001b[39m\u001b[34m(self, key)\u001b[39m\n\u001b[32m   3811\u001b[39m \u001b[38;5;28;01mtry\u001b[39;00m:\n\u001b[32m-> \u001b[39m\u001b[32m3812\u001b[39m     \u001b[38;5;28;01mreturn\u001b[39;00m \u001b[38;5;28;43mself\u001b[39;49m\u001b[43m.\u001b[49m\u001b[43m_engine\u001b[49m\u001b[43m.\u001b[49m\u001b[43mget_loc\u001b[49m\u001b[43m(\u001b[49m\u001b[43mcasted_key\u001b[49m\u001b[43m)\u001b[49m\n\u001b[32m   3813\u001b[39m \u001b[38;5;28;01mexcept\u001b[39;00m \u001b[38;5;167;01mKeyError\u001b[39;00m \u001b[38;5;28;01mas\u001b[39;00m err:\n",
      "\u001b[36mFile \u001b[39m\u001b[32mpandas/_libs/index.pyx:167\u001b[39m, in \u001b[36mpandas._libs.index.IndexEngine.get_loc\u001b[39m\u001b[34m()\u001b[39m\n",
      "\u001b[36mFile \u001b[39m\u001b[32mpandas/_libs/index.pyx:196\u001b[39m, in \u001b[36mpandas._libs.index.IndexEngine.get_loc\u001b[39m\u001b[34m()\u001b[39m\n",
      "\u001b[36mFile \u001b[39m\u001b[32mpandas/_libs/hashtable_class_helper.pxi:7088\u001b[39m, in \u001b[36mpandas._libs.hashtable.PyObjectHashTable.get_item\u001b[39m\u001b[34m()\u001b[39m\n",
      "\u001b[36mFile \u001b[39m\u001b[32mpandas/_libs/hashtable_class_helper.pxi:7096\u001b[39m, in \u001b[36mpandas._libs.hashtable.PyObjectHashTable.get_item\u001b[39m\u001b[34m()\u001b[39m\n",
      "\u001b[31mKeyError\u001b[39m: 'Request'",
      "\nThe above exception was the direct cause of the following exception:\n",
      "\u001b[31mKeyError\u001b[39m                                  Traceback (most recent call last)",
      "\u001b[36mCell\u001b[39m\u001b[36m \u001b[39m\u001b[32mIn[43]\u001b[39m\u001b[32m, line 1\u001b[39m\n\u001b[32m----> \u001b[39m\u001b[32m1\u001b[39m pickups[\u001b[33m'\u001b[39m\u001b[33mRequest\u001b[39m\u001b[33m'\u001b[39m] = \u001b[43mpickups\u001b[49m\u001b[43m[\u001b[49m\u001b[33;43m'\u001b[39;49m\u001b[33;43mRequest\u001b[39;49m\u001b[33;43m'\u001b[39;49m\u001b[43m]\u001b[49m.fillna(\u001b[32m0\u001b[39m).astype(\u001b[33m'\u001b[39m\u001b[33mcategory\u001b[39m\u001b[33m'\u001b[39m)\n\u001b[32m      2\u001b[39m \u001b[38;5;28;01massert\u001b[39;00m pickups[\u001b[33m'\u001b[39m\u001b[33mRequest\u001b[39m\u001b[33m'\u001b[39m].dtype == \u001b[33m'\u001b[39m\u001b[33mcategory\u001b[39m\u001b[33m'\u001b[39m\n\u001b[32m      4\u001b[39m \u001b[38;5;28mprint\u001b[39m(pickups[\u001b[33m'\u001b[39m\u001b[33mRequest\u001b[39m\u001b[33m'\u001b[39m].describe())\n",
      "\u001b[36mFile \u001b[39m\u001b[32m~\\anaconda3\\envs\\geospatial\\Lib\\site-packages\\pandas\\core\\frame.py:4107\u001b[39m, in \u001b[36mDataFrame.__getitem__\u001b[39m\u001b[34m(self, key)\u001b[39m\n\u001b[32m   4105\u001b[39m \u001b[38;5;28;01mif\u001b[39;00m \u001b[38;5;28mself\u001b[39m.columns.nlevels > \u001b[32m1\u001b[39m:\n\u001b[32m   4106\u001b[39m     \u001b[38;5;28;01mreturn\u001b[39;00m \u001b[38;5;28mself\u001b[39m._getitem_multilevel(key)\n\u001b[32m-> \u001b[39m\u001b[32m4107\u001b[39m indexer = \u001b[38;5;28;43mself\u001b[39;49m\u001b[43m.\u001b[49m\u001b[43mcolumns\u001b[49m\u001b[43m.\u001b[49m\u001b[43mget_loc\u001b[49m\u001b[43m(\u001b[49m\u001b[43mkey\u001b[49m\u001b[43m)\u001b[49m\n\u001b[32m   4108\u001b[39m \u001b[38;5;28;01mif\u001b[39;00m is_integer(indexer):\n\u001b[32m   4109\u001b[39m     indexer = [indexer]\n",
      "\u001b[36mFile \u001b[39m\u001b[32m~\\anaconda3\\envs\\geospatial\\Lib\\site-packages\\pandas\\core\\indexes\\base.py:3819\u001b[39m, in \u001b[36mIndex.get_loc\u001b[39m\u001b[34m(self, key)\u001b[39m\n\u001b[32m   3814\u001b[39m     \u001b[38;5;28;01mif\u001b[39;00m \u001b[38;5;28misinstance\u001b[39m(casted_key, \u001b[38;5;28mslice\u001b[39m) \u001b[38;5;129;01mor\u001b[39;00m (\n\u001b[32m   3815\u001b[39m         \u001b[38;5;28misinstance\u001b[39m(casted_key, abc.Iterable)\n\u001b[32m   3816\u001b[39m         \u001b[38;5;129;01mand\u001b[39;00m \u001b[38;5;28many\u001b[39m(\u001b[38;5;28misinstance\u001b[39m(x, \u001b[38;5;28mslice\u001b[39m) \u001b[38;5;28;01mfor\u001b[39;00m x \u001b[38;5;129;01min\u001b[39;00m casted_key)\n\u001b[32m   3817\u001b[39m     ):\n\u001b[32m   3818\u001b[39m         \u001b[38;5;28;01mraise\u001b[39;00m InvalidIndexError(key)\n\u001b[32m-> \u001b[39m\u001b[32m3819\u001b[39m     \u001b[38;5;28;01mraise\u001b[39;00m \u001b[38;5;167;01mKeyError\u001b[39;00m(key) \u001b[38;5;28;01mfrom\u001b[39;00m\u001b[38;5;250m \u001b[39m\u001b[34;01merr\u001b[39;00m\n\u001b[32m   3820\u001b[39m \u001b[38;5;28;01mexcept\u001b[39;00m \u001b[38;5;167;01mTypeError\u001b[39;00m:\n\u001b[32m   3821\u001b[39m     \u001b[38;5;66;03m# If we have a listlike key, _check_indexing_error will raise\u001b[39;00m\n\u001b[32m   3822\u001b[39m     \u001b[38;5;66;03m#  InvalidIndexError. Otherwise we fall through and re-raise\u001b[39;00m\n\u001b[32m   3823\u001b[39m     \u001b[38;5;66;03m#  the TypeError.\u001b[39;00m\n\u001b[32m   3824\u001b[39m     \u001b[38;5;28mself\u001b[39m._check_indexing_error(key)\n",
      "\u001b[31mKeyError\u001b[39m: 'Request'"
     ]
    }
   ],
   "source": [
    "missed_pickups = pickups[(pickups['Request'].str.contains"
   ]
  },
  {
   "cell_type": "code",
   "execution_count": null,
   "id": "6f9c4f29-8025-4c4c-951b-a57aca2a2b80",
   "metadata": {},
   "outputs": [],
   "source": [
    "## make table for complaints that are not a miss\n"
   ]
  },
  {
   "cell_type": "code",
   "execution_count": null,
   "id": "3346dda9-d080-4cfd-9705-190a5e29a85a",
   "metadata": {},
   "outputs": [],
   "source": [
    "## heat map"
   ]
  },
  {
   "cell_type": "code",
   "execution_count": null,
   "id": "a465f77c-7fe1-4294-87d9-2f1eacdfeb3f",
   "metadata": {},
   "outputs": [],
   "source": [
    "## owed amounts"
   ]
  }
 ],
 "metadata": {
  "kernelspec": {
   "display_name": "Python 3 (ipykernel)",
   "language": "python",
   "name": "python3"
  },
  "language_info": {
   "codemirror_mode": {
    "name": "ipython",
    "version": 3
   },
   "file_extension": ".py",
   "mimetype": "text/x-python",
   "name": "python",
   "nbconvert_exporter": "python",
   "pygments_lexer": "ipython3",
   "version": "3.13.5"
  }
 },
 "nbformat": 4,
 "nbformat_minor": 5
}
